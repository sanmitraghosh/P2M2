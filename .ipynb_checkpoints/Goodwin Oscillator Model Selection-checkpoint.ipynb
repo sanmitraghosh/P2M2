{
 "cells": [
  {
   "cell_type": "code",
   "execution_count": null,
   "metadata": {
    "collapsed": true
   },
   "outputs": [],
   "source": [
    "from scipy.integrate import odeint\n",
    "import math \n",
    "import numpy as np\n",
    "import matplotlib.pyplot as plt\n",
    "import theano\n",
    "%matplotlib inline\n",
    "THEANO_FLAGS='floatX=float32,optimizer=fast_compile'\n",
    "theano.config.floatX = 'float64'\n",
    "theano.config.compute_test_value = 'raise'\n",
    "theano.config.exception_verbosity= 'high'"
   ]
  },
  {
   "cell_type": "code",
   "execution_count": null,
   "metadata": {},
   "outputs": [],
   "source": [
    "def model_deriv_GDW3(y, t, param):\n",
    "    #Define parameters\n",
    "    a1, a2, alpha, k1, k2=param\n",
    "    \n",
    "    #define states\n",
    "    X1, X2, X3=y\n",
    "    #define derivatives\n",
    "    dX1_dt=a1/(1+a2*(X3**10)) -alpha*X1\n",
    "    dX2_dt=k1*X1 - alpha*X2\n",
    "    dX3_dt=k2*X2 - alpha*X3\n",
    "    \n",
    "    \n",
    "    return dX1_dt,dX2_dt,dX3_dt\n",
    "def model_deriv_GDW5(y, t, param):\n",
    "    #Define parameters\n",
    "    a1, a2, alpha, k1, k2, k3, k4=param\n",
    "    \n",
    "    #define states\n",
    "    X1, X2, X3, X4, X5=y\n",
    "    #define derivatives\n",
    "    dX1_dt=a1/(1+a2*(X5**10)) -alpha*X1\n",
    "    dX2_dt=k1*X1 - alpha*X2\n",
    "    dX3_dt=k2*X2 - alpha*X3\n",
    "    dX4_dt=k3*X3 - alpha*X4\n",
    "    dX5_dt=k4*X4 - alpha*X5\n",
    "    \n",
    "    return dX1_dt,dX2_dt,dX3_dt,dX4_dt,dX5_dt  \n",
    "def model_sol_GDW3(param):\n",
    "    \n",
    "    y0 = [0,0,0]\n",
    "    time = np.linspace(0, 50, 120)\n",
    "    solution = odeint(model_deriv_GDW3, y0, time, args=(param,))\n",
    "    return np.array(solution)\n",
    "def model_sol_GDW5(param):\n",
    "    \n",
    "    y0 = [0,0,0,0,0]\n",
    "    time = np.linspace(0, 50, 120)\n",
    "    solution = odeint(model_deriv_GDW5, y0, time, args=(param,))\n",
    "    return np.array(solution[:,0:3])"
   ]
  },
  {
   "cell_type": "code",
   "execution_count": null,
   "metadata": {},
   "outputs": [],
   "source": [
    "sigma=0.2\n",
    "solGD3=model_sol_GDW3([1.97,0.15,0.53,0.46,1.49])#,1.69,1.69\n",
    "Y=solGD3+np.random.randn(120,3)*sigma"
   ]
  },
  {
   "cell_type": "code",
   "execution_count": null,
   "metadata": {},
   "outputs": [],
   "source": [
    "time = np.linspace(0, 50, 120)\n",
    "#plt.plot(time,Y)\n",
    "plt.plot(time,solGD3)"
   ]
  },
  {
   "cell_type": "code",
   "execution_count": null,
   "metadata": {
    "collapsed": true
   },
   "outputs": [],
   "source": [
    "import theano.tensor as tt\n",
    "from theano.compile.ops import as_op\n",
    "\n",
    "@as_op(itypes=[tt.dvector], otypes=[tt.dmatrix])\n",
    "def GDW3_ode_sol(param):\n",
    "    \n",
    "    sol=model_sol_GDW3(param)\n",
    "    \n",
    "    return sol\n",
    "@as_op(itypes=[tt.dvector], otypes=[tt.dmatrix])\n",
    "def GDW5_ode_sol(param):\n",
    "    \n",
    "\n",
    "    sol=model_sol_GDW5(param)\n",
    "    \n",
    "    return sol"
   ]
  },
  {
   "cell_type": "code",
   "execution_count": null,
   "metadata": {
    "scrolled": true
   },
   "outputs": [],
   "source": [
    "import pymc3 as pm\n",
    "from pymc3.step_methods import smc\n",
    "from tempfile import mkdtemp\n",
    "from scipy import optimize\n",
    "basic_model = pm.Model()\n",
    "n_steps = 20\n",
    "n_chains = 100\n",
    "\n",
    "with basic_model:\n",
    "\n",
    "    # Priors for unknown model parameters\n",
    "    \n",
    "    a = pm.Gamma('a', alpha=2,beta=1, transform=None, shape=5)\n",
    "    \n",
    "    \n",
    "    mu = GDW3_ode_sol(a)\n",
    "    cov=np.eye(3)*sigma**2\n",
    "    \n",
    "    \n",
    "    # Likelihood (sampling distribution) of observations\n",
    "    Y_obs = pm.MvNormal('Y_obs', mu=mu, cov=cov, observed=Y)\n",
    "\n",
    "    test_folder = mkdtemp(prefix='SMC_TEST')\n",
    "    trace = smc.sample_smc(n_steps=n_steps,n_chains=n_chains,progressbar=True,\n",
    "                           homepath=test_folder,\n",
    "                           stage=0,tune_interval=5, random_seed=21)"
   ]
  },
  {
   "cell_type": "code",
   "execution_count": null,
   "metadata": {},
   "outputs": [],
   "source": [
    "pm.plot_posterior(trace)"
   ]
  },
  {
   "cell_type": "code",
   "execution_count": null,
   "metadata": {},
   "outputs": [],
   "source": [
    "GDW5_model = pm.Model()\n",
    "n_steps = 100\n",
    "n_chains = 500\n",
    "\n",
    "with GDW5_model:\n",
    "\n",
    "    # Priors for unknown model parameters\n",
    "    \n",
    "    a = pm.Gamma('a', alpha=2,beta=1, transform=None, shape=7)\n",
    "    \n",
    "    \n",
    "    mu = GDW5_ode_sol(a)\n",
    "    cov=np.eye(3)*sigma**2\n",
    "    # Likelihood (sampling distribution) of observations\n",
    "    Y_obs = pm.MvNormal('Y_obs', mu=mu, cov=cov, observed=Y)\n",
    "    \n",
    "    test_folder = mkdtemp(prefix='SMC_TEST')\n",
    "    trace = smc.sample_smc(n_steps=n_steps,n_chains=n_chains,progressbar=True,\n",
    "                           homepath=test_folder,\n",
    "                           stage=0,tune_interval=5, random_seed=21)"
   ]
  },
  {
   "cell_type": "code",
   "execution_count": null,
   "metadata": {},
   "outputs": [],
   "source": [
    "pm.plot_posterior(trace)"
   ]
  },
  {
   "cell_type": "code",
   "execution_count": null,
   "metadata": {},
   "outputs": [],
   "source": [
    "basic_model.marginal_likelihood/GDW5_model.marginal_likelihood"
   ]
  },
  {
   "cell_type": "code",
   "execution_count": null,
   "metadata": {
    "collapsed": true
   },
   "outputs": [],
   "source": []
  }
 ],
 "metadata": {
  "anaconda-cloud": {},
  "kernelspec": {
   "display_name": "Python 2",
   "language": "python",
   "name": "python2"
  },
  "language_info": {
   "codemirror_mode": {
    "name": "ipython",
    "version": 2
   },
   "file_extension": ".py",
   "mimetype": "text/x-python",
   "name": "python",
   "nbconvert_exporter": "python",
   "pygments_lexer": "ipython2",
   "version": "2.7.13"
  }
 },
 "nbformat": 4,
 "nbformat_minor": 1
}
